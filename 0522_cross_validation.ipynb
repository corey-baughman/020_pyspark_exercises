{
 "cells": [
  {
   "cell_type": "markdown",
   "id": "e6ece821-1de3-46f0-b008-1250b37de663",
   "metadata": {},
   "source": [
    "## Cross-validation"
   ]
  },
  {
   "cell_type": "code",
   "execution_count": 9,
   "id": "eb2ca799-f533-4b79-8c44-6cc91f55eb86",
   "metadata": {},
   "outputs": [],
   "source": [
    "import numpy as np\n",
    "import pandas as pd\n",
    "\n",
    "from sklearn.model_selection import GridSearchCV, cross_val_score, train_test_split\n",
    "from sklearn.preprocessing import LabelEncoder"
   ]
  },
  {
   "cell_type": "code",
   "execution_count": 5,
   "id": "bcf63439-1a17-43f1-acec-75bd97445556",
   "metadata": {},
   "outputs": [],
   "source": [
    "cars = pd.read_csv('cars.csv')"
   ]
  },
  {
   "cell_type": "code",
   "execution_count": 6,
   "id": "d46c39e9-18ab-4e89-9673-c842a8ce8d61",
   "metadata": {},
   "outputs": [
    {
     "name": "stdout",
     "output_type": "stream",
     "text": [
      "<class 'pandas.core.frame.DataFrame'>\n",
      "RangeIndex: 297899 entries, 0 to 297898\n",
      "Data columns (total 8 columns):\n",
      " #   Column   Non-Null Count   Dtype \n",
      "---  ------   --------------   ----- \n",
      " 0   price    297899 non-null  int64 \n",
      " 1   year     297899 non-null  int64 \n",
      " 2   mileage  297899 non-null  int64 \n",
      " 3   city     297899 non-null  object\n",
      " 4   state    297899 non-null  object\n",
      " 5   vin      297899 non-null  object\n",
      " 6   make     297899 non-null  object\n",
      " 7   model    297899 non-null  object\n",
      "dtypes: int64(3), object(5)\n",
      "memory usage: 18.2+ MB\n"
     ]
    }
   ],
   "source": [
    "cars.info()"
   ]
  },
  {
   "cell_type": "code",
   "execution_count": null,
   "id": "ba3d0b6b-c9fb-430a-a647-bbca8721832b",
   "metadata": {},
   "outputs": [],
   "source": []
  }
 ],
 "metadata": {
  "kernelspec": {
   "display_name": "Python 3 (ipykernel)",
   "language": "python",
   "name": "python3"
  },
  "language_info": {
   "codemirror_mode": {
    "name": "ipython",
    "version": 3
   },
   "file_extension": ".py",
   "mimetype": "text/x-python",
   "name": "python",
   "nbconvert_exporter": "python",
   "pygments_lexer": "ipython3",
   "version": "3.9.13"
  }
 },
 "nbformat": 4,
 "nbformat_minor": 5
}
