{
 "cells": [
  {
   "cell_type": "markdown",
   "id": "6ced55d1-698f-416f-8ebb-f7c5d8f604d1",
   "metadata": {},
   "source": [
    "## PySpark: Wrangle"
   ]
  },
  {
   "cell_type": "markdown",
   "id": "cd58d076-8630-45fd-a9c0-b284202f2821",
   "metadata": {},
   "source": [
    "These exercises use the cases, dept, and source tables from the 311_data on the Codeup MySQL server.\n",
    "\n"
   ]
  },
  {
   "cell_type": "code",
   "execution_count": 1,
   "id": "d0c32d09-ba68-4c8c-8129-10e23bbacb1a",
   "metadata": {},
   "outputs": [],
   "source": [
    "from pyspark.sql import SparkSession\n",
    "from pyspark.sql.functions import *\n",
    "import pandas as pd"
   ]
  },
  {
   "cell_type": "code",
   "execution_count": 4,
   "id": "69a15869-e4e1-429f-a6fb-726a47ef62e9",
   "metadata": {},
   "outputs": [
    {
     "data": {
      "text/html": [
       "\n",
       "            <div>\n",
       "                <p><b>SparkSession - in-memory</b></p>\n",
       "                \n",
       "        <div>\n",
       "            <p><b>SparkContext</b></p>\n",
       "\n",
       "            <p><a href=\"http://172.20.10.3:4040\">Spark UI</a></p>\n",
       "\n",
       "            <dl>\n",
       "              <dt>Version</dt>\n",
       "                <dd><code>v3.4.0</code></dd>\n",
       "              <dt>Master</dt>\n",
       "                <dd><code>local[*]</code></dd>\n",
       "              <dt>AppName</dt>\n",
       "                <dd><code>pyspark-shell</code></dd>\n",
       "            </dl>\n",
       "        </div>\n",
       "        \n",
       "            </div>\n",
       "        "
      ],
      "text/plain": [
       "<pyspark.sql.session.SparkSession at 0x12b0b6f40>"
      ]
     },
     "execution_count": 4,
     "metadata": {},
     "output_type": "execute_result"
    }
   ],
   "source": [
    "spark = SparkSession.builder.getOrCreate()\n",
    "spark"
   ]
  },
  {
   "cell_type": "markdown",
   "id": "024b08e6-ca72-47c0-9f55-d699b5037397",
   "metadata": {},
   "source": [
    "#### **Acquisition**"
   ]
  },
  {
   "cell_type": "markdown",
   "id": "c1f01e12-9940-4598-bc64-31d196c556b9",
   "metadata": {},
   "source": [
    "##### 1. Read the case, department, and source data into their own spark dataframes.\n",
    "\n"
   ]
  },
  {
   "cell_type": "code",
   "execution_count": 5,
   "id": "3304f233-949f-44a2-a9f5-496e257e080f",
   "metadata": {},
   "outputs": [],
   "source": [
    "df = spark.read.format('csv').\\\n",
    "    option('header', True).load('311.csv')"
   ]
  },
  {
   "cell_type": "code",
   "execution_count": 8,
   "id": "19d3e89a-fa19-444d-a1ca-e85720b21b0e",
   "metadata": {},
   "outputs": [
    {
     "name": "stdout",
     "output_type": "stream",
     "text": [
      "-RECORD 0------------------------------------\n",
      " case_id              | 1014127332           \n",
      " case_opened_date     | 1/1/18 0:42          \n",
      " case_closed_date     | 1/1/18 12:29         \n",
      " SLA_due_date         | 9/26/20 0:42         \n",
      " case_late            | NO                   \n",
      " num_days_late        | -998.5087616         \n",
      " case_closed          | YES                  \n",
      " dept_division        | Field Operations     \n",
      " service_request_type | Stray Animal         \n",
      " SLA_days             | 999.0                \n",
      " case_status          | Closed               \n",
      " source_id            | svcCRMLS             \n",
      " request_address      | 2315  EL PASO ST,... \n",
      " council_district     | 5                    \n",
      "only showing top 1 row\n",
      "\n"
     ]
    }
   ],
   "source": [
    "df.show(1, vertical=True)"
   ]
  },
  {
   "cell_type": "code",
   "execution_count": 9,
   "id": "3750edc8-5e99-4665-8ba5-4ff201dbd2ee",
   "metadata": {},
   "outputs": [
    {
     "name": "stdout",
     "output_type": "stream",
     "text": [
      "-RECORD 0----------------------------------\n",
      " dept_division          | 311 Call Center  \n",
      " dept_name              | Customer Service \n",
      " standardized_dept_name | Customer Service \n",
      " dept_subject_to_SLA    | YES              \n",
      "only showing top 1 row\n",
      "\n"
     ]
    }
   ],
   "source": [
    "dept = spark.read.format('csv').\\\n",
    "    option('header', True).load('dept.csv')\n",
    "dept.show(1, vertical=True)"
   ]
  },
  {
   "cell_type": "markdown",
   "id": "f783f2c4-205f-4c01-a2a9-49faf3907995",
   "metadata": {},
   "source": [
    "##### 2. Let's see how writing to the local disk works in spark:\n",
    "\n",
    "- Write the code necessary to store the source data in both csv and json format, store these as sources_csv and sources_json\n",
    "\n",
    "- Inspect your folder structure. What do you notice?\n",
    "\n",
    "\n"
   ]
  },
  {
   "cell_type": "code",
   "execution_count": 10,
   "id": "c73d6dfe-dbdc-4b38-b65c-fc14f5225301",
   "metadata": {},
   "outputs": [
    {
     "name": "stderr",
     "output_type": "stream",
     "text": [
      "                                                                                \r"
     ]
    }
   ],
   "source": [
    "# this is one way to write a file - with the df.write.csv()\n",
    "df.write.csv('data/311_json', mode='overwrite', header='True')"
   ]
  },
  {
   "cell_type": "code",
   "execution_count": null,
   "id": "9cde6db2-8941-4ea4-9c18-1846763fc61e",
   "metadata": {},
   "outputs": [],
   "source": [
    "# this is another way to write a file - notice they are\n",
    "# being written to a folder, not necessary, but useful as\n",
    "# the file is split into multiply distributed files\n",
    "df.write.format('csv').mode('overwrite')\\\n",
    "    .option('header', 'True').save('data/mpg_csv')"
   ]
  },
  {
   "cell_type": "markdown",
   "id": "9b3133d9-a59d-4238-89b3-92a933916523",
   "metadata": {},
   "source": [
    "##### 3. Inspect the data in your dataframes. Are the data types appropriate? Write the code necessary to cast the values to the appropriate types.\n",
    "\n"
   ]
  },
  {
   "cell_type": "code",
   "execution_count": null,
   "id": "3bd8e5b2-5b37-4d2a-a53a-d373ee82c1d5",
   "metadata": {},
   "outputs": [],
   "source": []
  },
  {
   "cell_type": "markdown",
   "id": "e1652378-4112-4f33-a1ac-e7984e99ba46",
   "metadata": {},
   "source": [
    "#### **Exercises**"
   ]
  },
  {
   "cell_type": "markdown",
   "id": "ef13237f-0c6f-405b-9731-149ce1a02909",
   "metadata": {},
   "source": [
    "##### 1. How old is the latest (in terms of days past SLA) currently open issue? How long has the oldest (in terms of days since opened) currently opened issue been open?\n"
   ]
  },
  {
   "cell_type": "code",
   "execution_count": null,
   "id": "a1c2eab5-27a0-403c-b0f5-6c2d8a57e448",
   "metadata": {},
   "outputs": [],
   "source": []
  },
  {
   "cell_type": "markdown",
   "id": "9040ef98-1ae2-4832-8ce7-647c7cc37cdc",
   "metadata": {},
   "source": [
    "##### 2. How many Stray Animal cases are there?\n"
   ]
  },
  {
   "cell_type": "code",
   "execution_count": null,
   "id": "1b5e4914-fbff-44f0-8c3e-b83cb610f70b",
   "metadata": {},
   "outputs": [],
   "source": []
  },
  {
   "cell_type": "markdown",
   "id": "3c4304ac-006d-46ad-bee0-1a18e2fb7de9",
   "metadata": {},
   "source": [
    "##### 3. How many service requests that are assigned to the Field Operations department (dept_division) are not classified as \"Officer Standby\" request type (service_request_type)?\n",
    "\n"
   ]
  },
  {
   "cell_type": "code",
   "execution_count": null,
   "id": "46834257-6c06-4533-ae5b-6109819beb74",
   "metadata": {},
   "outputs": [],
   "source": []
  },
  {
   "cell_type": "markdown",
   "id": "d5144d81-ff03-4206-9291-a5867fc6be81",
   "metadata": {},
   "source": [
    "##### 4. Convert the council_district column to a string column.\n",
    "\n"
   ]
  },
  {
   "cell_type": "code",
   "execution_count": null,
   "id": "8de19eb8-1997-43c8-a2c9-b34791dff9b4",
   "metadata": {},
   "outputs": [],
   "source": []
  },
  {
   "cell_type": "markdown",
   "id": "98e6afaf-34dc-4b17-8d6d-ae5d2f3a6e64",
   "metadata": {},
   "source": [
    "##### 5. Extract the year from the case_closed_date column.\n"
   ]
  },
  {
   "cell_type": "code",
   "execution_count": null,
   "id": "1b5ad35a-7394-4bb3-b4f7-710ca277351a",
   "metadata": {},
   "outputs": [],
   "source": []
  },
  {
   "cell_type": "markdown",
   "id": "4ccfeff7-a5a4-4dc9-93b1-4a338103afec",
   "metadata": {},
   "source": [
    "##### 6. Convert num_days_late from days to hours in new columns num_hours_late.\n",
    "\n"
   ]
  },
  {
   "cell_type": "code",
   "execution_count": null,
   "id": "e12c2410-2514-4705-a28a-36c296321970",
   "metadata": {},
   "outputs": [],
   "source": []
  },
  {
   "cell_type": "markdown",
   "id": "d15fdc81-e355-4b5f-8ae0-06ecd1c51be5",
   "metadata": {},
   "source": [
    "##### 7. Join the case data with the source and department data.\n",
    "\n"
   ]
  },
  {
   "cell_type": "code",
   "execution_count": null,
   "id": "c23d83fa-1b57-47ce-b173-b285ab9eb709",
   "metadata": {},
   "outputs": [],
   "source": []
  },
  {
   "cell_type": "markdown",
   "id": "15007131-c139-4afe-bd37-5dbe66728a47",
   "metadata": {},
   "source": [
    "##### 8. Are there any cases that do not have a request source?\n",
    "\n"
   ]
  },
  {
   "cell_type": "code",
   "execution_count": null,
   "id": "c0198a5b-abd5-4640-a5b1-5b4f6f5b9803",
   "metadata": {},
   "outputs": [],
   "source": []
  },
  {
   "cell_type": "markdown",
   "id": "c69435f2-3a1c-45d6-8ce7-03bd9dd17446",
   "metadata": {},
   "source": [
    "##### 9. What are the top 10 service request types in terms of number of requests?\n",
    "\n"
   ]
  },
  {
   "cell_type": "code",
   "execution_count": null,
   "id": "9893a740-7bf8-4985-9d46-f2d23e976830",
   "metadata": {},
   "outputs": [],
   "source": []
  },
  {
   "cell_type": "markdown",
   "id": "ca13f8b2-947b-4872-b42f-f86079dafd75",
   "metadata": {},
   "source": [
    "##### 10. What are the top 10 service request types in terms of average days late?\n"
   ]
  },
  {
   "cell_type": "code",
   "execution_count": null,
   "id": "090163b9-7146-4453-84bd-66f21965bbad",
   "metadata": {},
   "outputs": [],
   "source": []
  },
  {
   "cell_type": "markdown",
   "id": "dfb66d73-d374-4998-9d3a-e5b4fc85c79c",
   "metadata": {},
   "source": [
    "##### 11. Does number of days late depend on department?\n"
   ]
  },
  {
   "cell_type": "code",
   "execution_count": null,
   "id": "61fbe846-c7d7-4efb-b283-79ce0c9d75ec",
   "metadata": {},
   "outputs": [],
   "source": []
  },
  {
   "cell_type": "markdown",
   "id": "9abf1e19-72fc-4215-aca3-8030c24de76b",
   "metadata": {},
   "source": [
    "##### 12. How do number of days late depend on department and request type?\n"
   ]
  },
  {
   "cell_type": "code",
   "execution_count": null,
   "id": "43701013-a968-4cac-aa47-0c92994e6f78",
   "metadata": {},
   "outputs": [],
   "source": []
  },
  {
   "cell_type": "markdown",
   "id": "19af2157-e682-4692-bbe6-12657e8457ed",
   "metadata": {},
   "source": [
    "##### Bonus? You might have noticed that the latest date in the dataset is fairly far off from the present day. To account for this, replace any occurances of the current time with the maximum date from the dataset.\n",
    "\n",
    " "
   ]
  },
  {
   "cell_type": "code",
   "execution_count": null,
   "id": "5a7cead0-0c6a-4dec-b619-5047c7d6865d",
   "metadata": {},
   "outputs": [],
   "source": []
  }
 ],
 "metadata": {
  "kernelspec": {
   "display_name": "Python 3 (ipykernel)",
   "language": "python",
   "name": "python3"
  },
  "language_info": {
   "codemirror_mode": {
    "name": "ipython",
    "version": 3
   },
   "file_extension": ".py",
   "mimetype": "text/x-python",
   "name": "python",
   "nbconvert_exporter": "python",
   "pygments_lexer": "ipython3",
   "version": "3.9.13"
  }
 },
 "nbformat": 4,
 "nbformat_minor": 5
}
